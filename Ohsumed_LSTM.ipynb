{
 "cells": [
  {
   "cell_type": "code",
   "execution_count": 19,
   "metadata": {},
   "outputs": [
    {
     "name": "stdout",
     "output_type": "stream",
     "text": [
      "C01 423\n",
      "C02 158\n",
      "C03 65\n",
      "C04 1163\n",
      "C05 283\n",
      "C06 588\n",
      "C07 100\n",
      "C08 473\n",
      "C09 125\n",
      "C10 621\n",
      "C11 162\n",
      "C12 491\n",
      "C13 281\n",
      "C14 1249\n",
      "C15 215\n",
      "C16 200\n",
      "C17 295\n",
      "C18 388\n",
      "C19 191\n",
      "C20 525\n",
      "C21 546\n",
      "C22 92\n",
      "C23 1799\n"
     ]
    }
   ],
   "source": [
    "#Download the training data and the labels\n",
    "\n",
    "import os\n",
    "\n",
    "case3_dir = r'C:\\Users\\Thi\\Desktop\\ohsumed-first-20000-docs'\n",
    "train_dir = os.path.join(case3_dir, 'training')\n",
    "\n",
    "labels = []\n",
    "texts = []\n",
    "\n",
    "label_list = [label for label in os.listdir(train_dir)]\n",
    "\n",
    "for label_type in label_list:\n",
    "    dir_name = os.path.join(train_dir, label_type)\n",
    "    print(label_type, len(os.listdir(dir_name)))\n",
    "    for fname in os.listdir(dir_name):\n",
    "        f = open(os.path.join(dir_name, fname))\n",
    "        texts.append(f.read())\n",
    "        f.close()\n",
    "        labels.append(label_list.index(label_type))"
   ]
  },
  {
   "cell_type": "code",
   "execution_count": 20,
   "metadata": {},
   "outputs": [
    {
     "name": "stdout",
     "output_type": "stream",
     "text": [
      "Shape of labels tensor: (10433, 23)\n"
     ]
    }
   ],
   "source": [
    "#Preprocess integer labels into one-hot tensor labels\n",
    "\n",
    "from keras.utils.np_utils import to_categorical\n",
    "import numpy as np\n",
    "\n",
    "labels = np.asarray(labels)\n",
    "labels = to_categorical(labels)\n",
    "print('Shape of labels tensor:', labels.shape)"
   ]
  },
  {
   "cell_type": "code",
   "execution_count": 21,
   "metadata": {},
   "outputs": [
    {
     "name": "stdout",
     "output_type": "stream",
     "text": [
      "Found 30857 unique tokens\n",
      "Shape of data tensor: (10433, 300)\n"
     ]
    }
   ],
   "source": [
    "#Preprocess word data into integer tensors\n",
    "#Each sample is zero-padded to length \"maxlen\"\n",
    "#Only \"max_words\" most frequent words are taken into account\n",
    "\n",
    "from keras.preprocessing.text import Tokenizer\n",
    "from keras.preprocessing.sequence import pad_sequences\n",
    "\n",
    "maxlen = 300 # common length of all the samples\n",
    "max_words = 20000 # number of different word indices\n",
    "\n",
    "tokenizer = Tokenizer(num_words = max_words)\n",
    "tokenizer.fit_on_texts(texts)\n",
    "sequences = tokenizer.texts_to_sequences(texts)\n",
    "\n",
    "word_index = tokenizer.word_index\n",
    "print('Found %s unique tokens' % len(word_index))\n",
    "\n",
    "data = pad_sequences(sequences, maxlen = maxlen)\n",
    "\n",
    "print('Shape of data tensor:', data.shape)"
   ]
  },
  {
   "cell_type": "code",
   "execution_count": 22,
   "metadata": {
    "collapsed": true
   },
   "outputs": [],
   "source": [
    "#Shuffle the training data \n",
    "\n",
    "indices = np.arange(data.shape[0])\n",
    "np.random.shuffle(indices)\n",
    "data = data[indices]\n",
    "labels = labels[indices]"
   ]
  },
  {
   "cell_type": "code",
   "execution_count": 23,
   "metadata": {},
   "outputs": [
    {
     "name": "stdout",
     "output_type": "stream",
     "text": [
      "_________________________________________________________________\n",
      "Layer (type)                 Output Shape              Param #   \n",
      "=================================================================\n",
      "embedding_5 (Embedding)      (None, 300, 69)           1380000   \n",
      "_________________________________________________________________\n",
      "lstm_5 (LSTM)                (None, 100)               68000     \n",
      "_________________________________________________________________\n",
      "dropout_7 (Dropout)          (None, 100)               0         \n",
      "_________________________________________________________________\n",
      "dense_8 (Dense)              (None, 69)                6969      \n",
      "_________________________________________________________________\n",
      "dropout_8 (Dropout)          (None, 69)                0         \n",
      "_________________________________________________________________\n",
      "dense_9 (Dense)              (None, 46)                3220      \n",
      "_________________________________________________________________\n",
      "dropout_9 (Dropout)          (None, 46)                0         \n",
      "_________________________________________________________________\n",
      "dense_10 (Dense)             (None, 23)                1081      \n",
      "=================================================================\n",
      "Total params: 1,459,270\n",
      "Trainable params: 1,459,270\n",
      "Non-trainable params: 0\n",
      "_________________________________________________________________\n"
     ]
    }
   ],
   "source": [
    "#Build and compile the network model\n",
    "\n",
    "from keras.models import Sequential\n",
    "from keras.layers import Dense, Embedding, LSTM, Dropout\n",
    "\n",
    "model = Sequential()\n",
    "model.add(Embedding(max_words, 69, input_shape=(maxlen,)))\n",
    "model.add(LSTM(100, return_sequences=False))\n",
    "model.add(Dropout(0.4))\n",
    "model.add(Dense(69, activation = 'relu'))\n",
    "model.add(Dropout(0.4))\n",
    "model.add(Dense(46, activation = 'relu'))\n",
    "model.add(Dropout(0.4))\n",
    "model.add(Dense(23, activation = 'softmax'))\n",
    "\n",
    "model.compile(optimizer = 'rmsprop',\n",
    "             loss = 'categorical_crossentropy',\n",
    "             metrics = ['accuracy'])\n",
    "\n",
    "model.summary()"
   ]
  },
  {
   "cell_type": "code",
   "execution_count": 24,
   "metadata": {},
   "outputs": [
    {
     "name": "stdout",
     "output_type": "stream",
     "text": [
      "Train on 9389 samples, validate on 1044 samples\n",
      "Epoch 1/20\n",
      "9389/9389 [==============================] - 179s 19ms/step - loss: 2.9182 - acc: 0.1463 - val_loss: 2.8314 - val_acc: 0.1762\n",
      "Epoch 2/20\n",
      "9389/9389 [==============================] - 169s 18ms/step - loss: 2.7756 - acc: 0.1672 - val_loss: 2.7969 - val_acc: 0.1849\n",
      "Epoch 3/20\n",
      "9389/9389 [==============================] - 159s 17ms/step - loss: 2.6880 - acc: 0.1849 - val_loss: 2.7103 - val_acc: 0.2146\n",
      "Epoch 4/20\n",
      "9389/9389 [==============================] - 114s 12ms/step - loss: 2.5983 - acc: 0.2251 - val_loss: 2.7202 - val_acc: 0.2328\n",
      "Epoch 5/20\n",
      "9389/9389 [==============================] - 113s 12ms/step - loss: 2.5300 - acc: 0.2443 - val_loss: 2.7229 - val_acc: 0.2366\n",
      "Epoch 6/20\n",
      "9389/9389 [==============================] - 114s 12ms/step - loss: 2.4727 - acc: 0.2664 - val_loss: 2.6975 - val_acc: 0.2375\n",
      "Epoch 7/20\n",
      "9389/9389 [==============================] - 123s 13ms/step - loss: 2.4233 - acc: 0.2717 - val_loss: 2.6713 - val_acc: 0.2366\n",
      "Epoch 8/20\n",
      "9389/9389 [==============================] - 159s 17ms/step - loss: 2.3778 - acc: 0.2816 - val_loss: 2.7226 - val_acc: 0.2155\n",
      "Epoch 9/20\n",
      "9389/9389 [==============================] - 165s 18ms/step - loss: 2.3405 - acc: 0.2913 - val_loss: 2.6934 - val_acc: 0.2289\n",
      "Epoch 10/20\n",
      "9389/9389 [==============================] - 154s 16ms/step - loss: 2.3061 - acc: 0.2952 - val_loss: 2.7630 - val_acc: 0.2433\n",
      "Epoch 11/20\n",
      "9389/9389 [==============================] - 134s 14ms/step - loss: 2.2545 - acc: 0.3007 - val_loss: 2.8078 - val_acc: 0.2328\n",
      "Epoch 12/20\n",
      "9389/9389 [==============================] - 114s 12ms/step - loss: 2.2263 - acc: 0.3034 - val_loss: 2.8717 - val_acc: 0.2395\n",
      "Epoch 13/20\n",
      "9389/9389 [==============================] - 123s 13ms/step - loss: 2.1933 - acc: 0.3148 - val_loss: 2.8420 - val_acc: 0.2222\n",
      "Epoch 14/20\n",
      "9389/9389 [==============================] - 145s 15ms/step - loss: 2.1510 - acc: 0.3272 - val_loss: 2.8860 - val_acc: 0.2021\n",
      "Epoch 15/20\n",
      "9389/9389 [==============================] - 114s 12ms/step - loss: 2.1156 - acc: 0.3286 - val_loss: 2.8450 - val_acc: 0.2002\n",
      "Epoch 16/20\n",
      "9389/9389 [==============================] - 143s 15ms/step - loss: 2.0924 - acc: 0.3346 - val_loss: 3.0719 - val_acc: 0.2088\n",
      "Epoch 17/20\n",
      "9389/9389 [==============================] - 143s 15ms/step - loss: 2.0539 - acc: 0.3457 - val_loss: 2.9929 - val_acc: 0.1897\n",
      "Epoch 18/20\n",
      "9389/9389 [==============================] - 128s 14ms/step - loss: 2.0318 - acc: 0.3522 - val_loss: 3.0926 - val_acc: 0.1944\n",
      "Epoch 19/20\n",
      "9389/9389 [==============================] - 188s 20ms/step - loss: 2.0022 - acc: 0.3540 - val_loss: 3.2927 - val_acc: 0.1925\n",
      "Epoch 20/20\n",
      "9389/9389 [==============================] - 161s 17ms/step - loss: 1.9708 - acc: 0.3688 - val_loss: 3.1323 - val_acc: 0.1925\n"
     ]
    }
   ],
   "source": [
    "#Fit the model to training data\n",
    "\n",
    "history = model.fit(data, labels, \n",
    "                    epochs = 20, batch_size = 64,\n",
    "                   validation_split=0.1)"
   ]
  },
  {
   "cell_type": "code",
   "execution_count": 25,
   "metadata": {},
   "outputs": [
    {
     "data": {
      "image/png": "[encoded data removed]",
      "text/plain": [
       "<matplotlib.figure.Figure at 0x1c43fbb4208>"
      ]
     },
     "metadata": {},
     "output_type": "display_data"
    }
   ],
   "source": [
    "#Plot the results\n",
    "\n",
    "import matplotlib.pyplot as plt\n",
    "\n",
    "acc = history.history['acc']\n",
    "val_acc = history.history['val_acc']\n",
    "loss = history.history['loss']\n",
    "val_loss = history.history['val_loss']\n",
    "\n",
    "epochs = range(1, len(acc) + 1)\n",
    "\n",
    "plt.figure(figsize=(15, 5))\n",
    "plt.subplot(121)\n",
    "plt.plot(epochs, acc, 'bo', label='Training acc')\n",
    "plt.plot(epochs, val_acc, 'b', label='Validation acc')\n",
    "plt.title('Training and validation accuracy')\n",
    "plt.xlabel('Epoch')\n",
    "plt.legend()\n",
    "\n",
    "plt.subplot(122)\n",
    "plt.plot(epochs, loss, 'bo', label='Training loss')\n",
    "plt.plot(epochs, val_loss, 'b', label='Validation loss')\n",
    "plt.title('Training and validation loss')\n",
    "plt.xlabel('Epoch')\n",
    "plt.legend()\n",
    "\n",
    "plt.show()"
   ]
  },
  {
   "cell_type": "code",
   "execution_count": 26,
   "metadata": {
    "collapsed": true
   },
   "outputs": [],
   "source": [
    "preprocess test data\n",
    "\n",
    "test_dir = os.path.join(case3_dir, 'test')\n",
    "\n",
    "test_labels = []\n",
    "test_texts = []\n",
    "\n",
    "for label_type in label_list:\n",
    "    dir_name = os.path.join(test_dir, label_type)\n",
    "    for fname in os.listdir(dir_name):\n",
    "        f = open(os.path.join(dir_name, fname))\n",
    "        test_texts.append(f.read())\n",
    "        f.close()\n",
    "        test_labels.append(label_list.index(label_type))\n",
    "\n",
    "test_sequences = tokenizer.texts_to_sequences(test_texts)\n",
    "x_test = pad_sequences(test_sequences, maxlen=maxlen)\n",
    "test_labels = np.asarray(test_labels)\n",
    "y_test = to_categorical(test_labels)"
   ]
  },
  {
   "cell_type": "code",
   "execution_count": 27,
   "metadata": {},
   "outputs": [
    {
     "name": "stdout",
     "output_type": "stream",
     "text": [
      "12733/12733 [==============================] - 46s 4ms/step\n"
     ]
    },
    {
     "data": {
      "text/plain": [
       "[2.7251761425583489, 0.23977067463201185]"
      ]
     },
     "execution_count": 27,
     "metadata": {},
     "output_type": "execute_result"
    }
   ],
   "source": [
    "#Evaluate model with test data\n",
    "\n",
    "model.evaluate(x_test, y_test)"
   ]
  },
  {
   "cell_type": "code",
   "execution_count": 28,
   "metadata": {
    "collapsed": true
   },
   "outputs": [],
   "source": [
    "from sklearn.metrics import accuracy_score, precision_score, f1_score, confusion_matrix\n",
    "from sklearn.metrics import classification_report, recall_score"
   ]
  },
  {
   "cell_type": "code",
   "execution_count": 29,
   "metadata": {
    "collapsed": true
   },
   "outputs": [],
   "source": [
    "# Calculate the predictions\n",
    "predictions = model.predict(data)\n",
    "y_pred = np.argmax(predictions, axis = 1)"
   ]
  },
  {
   "cell_type": "code",
   "execution_count": 30,
   "metadata": {},
   "outputs": [
    {
     "ename": "ValueError",
     "evalue": "Classification metrics can't handle a mix of multilabel-indicator and multiclass targets",
     "output_type": "error",
     "traceback": [
      "\u001b[1;31m---------------------------------------------------------------------------\u001b[0m",
      "\u001b[1;31mValueError\u001b[0m                                Traceback (most recent call last)",
      "\u001b[1;32m<ipython-input-30-391f77c30fec>\u001b[0m in \u001b[0;36m<module>\u001b[1;34m()\u001b[0m\n\u001b[0;32m      1\u001b[0m \u001b[1;31m# Confusion matrix\u001b[0m\u001b[1;33m\u001b[0m\u001b[1;33m\u001b[0m\u001b[0m\n\u001b[1;32m----> 2\u001b[1;33m \u001b[0mcm\u001b[0m \u001b[1;33m=\u001b[0m \u001b[0mconfusion_matrix\u001b[0m\u001b[1;33m(\u001b[0m\u001b[0mlabels\u001b[0m\u001b[1;33m,\u001b[0m \u001b[0my_pred\u001b[0m\u001b[1;33m)\u001b[0m\u001b[1;33m\u001b[0m\u001b[0m\n\u001b[0m\u001b[0;32m      3\u001b[0m \u001b[0mprint\u001b[0m\u001b[1;33m(\u001b[0m\u001b[0mnp\u001b[0m\u001b[1;33m.\u001b[0m\u001b[0marray2string\u001b[0m\u001b[1;33m(\u001b[0m\u001b[0mcm\u001b[0m\u001b[1;33m,\u001b[0m \u001b[0mmax_line_width\u001b[0m \u001b[1;33m=\u001b[0m \u001b[1;36m100\u001b[0m\u001b[1;33m)\u001b[0m\u001b[1;33m)\u001b[0m\u001b[1;33m\u001b[0m\u001b[0m\n",
      "\u001b[1;32mC:\\ProgramData\\Anaconda3\\lib\\site-packages\\sklearn\\metrics\\classification.py\u001b[0m in \u001b[0;36mconfusion_matrix\u001b[1;34m(y_true, y_pred, labels, sample_weight)\u001b[0m\n\u001b[0;32m    248\u001b[0m \u001b[1;33m\u001b[0m\u001b[0m\n\u001b[0;32m    249\u001b[0m     \"\"\"\n\u001b[1;32m--> 250\u001b[1;33m     \u001b[0my_type\u001b[0m\u001b[1;33m,\u001b[0m \u001b[0my_true\u001b[0m\u001b[1;33m,\u001b[0m \u001b[0my_pred\u001b[0m \u001b[1;33m=\u001b[0m \u001b[0m_check_targets\u001b[0m\u001b[1;33m(\u001b[0m\u001b[0my_true\u001b[0m\u001b[1;33m,\u001b[0m \u001b[0my_pred\u001b[0m\u001b[1;33m)\u001b[0m\u001b[1;33m\u001b[0m\u001b[0m\n\u001b[0m\u001b[0;32m    251\u001b[0m     \u001b[1;32mif\u001b[0m \u001b[0my_type\u001b[0m \u001b[1;32mnot\u001b[0m \u001b[1;32min\u001b[0m \u001b[1;33m(\u001b[0m\u001b[1;34m\"binary\"\u001b[0m\u001b[1;33m,\u001b[0m \u001b[1;34m\"multiclass\"\u001b[0m\u001b[1;33m)\u001b[0m\u001b[1;33m:\u001b[0m\u001b[1;33m\u001b[0m\u001b[0m\n\u001b[0;32m    252\u001b[0m         \u001b[1;32mraise\u001b[0m \u001b[0mValueError\u001b[0m\u001b[1;33m(\u001b[0m\u001b[1;34m\"%s is not supported\"\u001b[0m \u001b[1;33m%\u001b[0m \u001b[0my_type\u001b[0m\u001b[1;33m)\u001b[0m\u001b[1;33m\u001b[0m\u001b[0m\n",
      "\u001b[1;32mC:\\ProgramData\\Anaconda3\\lib\\site-packages\\sklearn\\metrics\\classification.py\u001b[0m in \u001b[0;36m_check_targets\u001b[1;34m(y_true, y_pred)\u001b[0m\n\u001b[0;32m     79\u001b[0m     \u001b[1;32mif\u001b[0m \u001b[0mlen\u001b[0m\u001b[1;33m(\u001b[0m\u001b[0my_type\u001b[0m\u001b[1;33m)\u001b[0m \u001b[1;33m>\u001b[0m \u001b[1;36m1\u001b[0m\u001b[1;33m:\u001b[0m\u001b[1;33m\u001b[0m\u001b[0m\n\u001b[0;32m     80\u001b[0m         raise ValueError(\"Classification metrics can't handle a mix of {0} \"\n\u001b[1;32m---> 81\u001b[1;33m                          \"and {1} targets\".format(type_true, type_pred))\n\u001b[0m\u001b[0;32m     82\u001b[0m \u001b[1;33m\u001b[0m\u001b[0m\n\u001b[0;32m     83\u001b[0m     \u001b[1;31m# We can't have more than one value on y_type => The set is no more needed\u001b[0m\u001b[1;33m\u001b[0m\u001b[1;33m\u001b[0m\u001b[0m\n",
      "\u001b[1;31mValueError\u001b[0m: Classification metrics can't handle a mix of multilabel-indicator and multiclass targets"
     ]
    }
   ],
   "source": [
    "# Confusion matrix\n",
    "cm = confusion_matrix(labels, y_pred)\n",
    "print(np.array2string(cm, max_line_width = 100))"
   ]
  },
  {
   "cell_type": "code",
   "execution_count": null,
   "metadata": {
    "collapsed": true
   },
   "outputs": [],
   "source": [
    "# Classification results per class\n",
    "print(classification_report(labels, y_pred))"
   ]
  },
  {
   "cell_type": "code",
   "execution_count": null,
   "metadata": {
    "collapsed": true
   },
   "outputs": [],
   "source": []
  }
 ],
 "metadata": {
  "kernelspec": {
   "display_name": "Python 3",
   "language": "python",
   "name": "python3"
  },
  "language_info": {
   "codemirror_mode": {
    "name": "ipython",
    "version": 3
   },
   "file_extension": ".py",
   "mimetype": "text/x-python",
   "name": "python",
   "nbconvert_exporter": "python",
   "pygments_lexer": "ipython3",
   "version": "3.6.3"
  }
 },
 "nbformat": 4,
 "nbformat_minor": 2
}
