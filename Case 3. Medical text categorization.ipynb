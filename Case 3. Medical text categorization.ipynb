{
 "cells": [
  {
   "cell_type": "markdown",
   "metadata": {},
   "source": [
    "# Case 3. Medical text categorization\n",
    "Thi, Le Thanh - 1504521 <br>\n",
    "Cognitive Systems for Health Technology Applications <br>\n",
    "Helsinki Metropolia University of Applied Sciences <br>"
   ]
  },
  {
   "cell_type": "markdown",
   "metadata": {},
   "source": [
    "# Task\n",
    "To use recurrent and convolutional neural networks to create a classifier for a collection of medical abstracts extracted from MEDLINE."
   ]
  },
  {
   "cell_type": "markdown",
   "metadata": {},
   "source": [
    "# Download and Preprocessing Data\n",
    "http://disi.unitn.it/moschitti/corpora.htm. Download than pre-computed embedding from the link. Cardiovascular diseases abstracts, file name 'ohsumed-first-20000-docs.tar.gz'"
   ]
  },
  {
   "cell_type": "code",
   "execution_count": 1,
   "metadata": {},
   "outputs": [
    {
     "data": {
      "text/plain": [
       "('ohsumed-first-20000-docs.tar.gz', <http.client.HTTPMessage at 0x1400c45b550>)"
      ]
     },
     "execution_count": 1,
     "metadata": {},
     "output_type": "execute_result"
    }
   ],
   "source": [
    "from urllib.request import urlretrieve\n",
    "url = r\"http://disi.unitn.it/moschitti/corpora/ohsumed-first-20000-docs.tar.gz\"\n",
    "dst = 'ohsumed-first-20000-docs.tar.gz'\n",
    "urlretrieve(url, dst)"
   ]
  },
  {
   "cell_type": "code",
   "execution_count": 2,
   "metadata": {
    "collapsed": true
   },
   "outputs": [],
   "source": [
    "# Extract the tarfile. Creates a folder: ohsu-trec\n",
    "import tarfile\n",
    "tar = tarfile.open(\"ohsumed-first-20000-docs.tar.gz\")\n",
    "tar.extractall()\n",
    "tar.close()"
   ]
  },
  {
   "cell_type": "markdown",
   "metadata": {},
   "source": [
    "# \n",
    "Collect the individual training review into a list of strings, on string per review and let's also collect the review labels into a lables list. So we have 23 Categories"
   ]
  },
  {
   "cell_type": "code",
   "execution_count": 3,
   "metadata": {
    "collapsed": true
   },
   "outputs": [],
   "source": [
    "import os\n",
    "\n",
    "ohsumed_dir = r'C:\\Users\\Thi\\Desktop\\ohsumed-first-20000-docs'\n",
    "train_dir = os.path.join(ohsumed_dir, 'training')\n",
    "\n",
    "labels = []\n",
    "texts = []\n",
    "\n",
    "# Generate a list L = ['C01', 'C02, ..., 'C023']\n",
    "L = ['C{:02}'.format(n) for n in range(1, 23 + 1)]\n",
    "for label_type in L:\n",
    "    dir_name = os.path.join(train_dir, label_type)\n",
    "    for fname in os.listdir(dir_name):\n",
    "        f = open(os.path.join(dir_name, fname))\n",
    "        texts.append(f.read())\n",
    "        f.close()\n",
    "        i = L.index(label_type)\n",
    "        labels.append(i)"
   ]
  },
  {
   "cell_type": "markdown",
   "metadata": {
    "collapsed": true
   },
   "source": [
    "# Tokenize the text of the raw data\n",
    "Vectorize the texts have been collected. We will review after 500 words and only consider the top 20,000 words in the dataset."
   ]
  },
  {
   "cell_type": "code",
   "execution_count": 4,
   "metadata": {},
   "outputs": [
    {
     "name": "stdout",
     "output_type": "stream",
     "text": [
      "Found 30857 unique tokens\n"
     ]
    }
   ],
   "source": [
    "from keras.preprocessing.text import Tokenizer\n",
    "from keras.preprocessing.sequence import pad_sequences\n",
    "import numpy as np\n",
    "\n",
    "maxlen = 500        \n",
    "max_words = 20000\n",
    "\n",
    "tokenizer = Tokenizer(num_words = max_words)\n",
    "tokenizer.fit_on_texts(texts)\n",
    "sequences = tokenizer.texts_to_sequences(texts)\n",
    "\n",
    "word_index = tokenizer.word_index\n",
    "print('Found %s unique tokens' % len(word_index))"
   ]
  },
  {
   "cell_type": "code",
   "execution_count": 5,
   "metadata": {},
   "outputs": [
    {
     "name": "stdout",
     "output_type": "stream",
     "text": [
      "Shape of data tensor: (10433, 500)\n",
      "Shape of labels tensor: (10433, 23)\n"
     ]
    }
   ],
   "source": [
    "#Shape the data and labels\n",
    "\n",
    "from keras.utils.np_utils import to_categorical\n",
    "\n",
    "data = pad_sequences(sequences, maxlen = maxlen)\n",
    "\n",
    "labels = np.asarray(labels)\n",
    "one_hot_labels = to_categorical(labels)\n",
    "\n",
    "\n",
    "print('Shape of data tensor:', data.shape)\n",
    "print('Shape of labels tensor:', one_hot_labels.shape)"
   ]
  },
  {
   "cell_type": "code",
   "execution_count": 6,
   "metadata": {
    "collapsed": true
   },
   "outputs": [],
   "source": [
    "#Shuffle the data and labels"
   ]
  },
  {
   "cell_type": "code",
   "execution_count": 7,
   "metadata": {
    "collapsed": true
   },
   "outputs": [],
   "source": [
    "indices = np.arange(data.shape[0])\n",
    "np.random.shuffle(indices)\n",
    "data = data[indices]\n",
    "labels = labels[indices]\n",
    "one_hot_labels = one_hot_labels[indices]"
   ]
  },
  {
   "cell_type": "markdown",
   "metadata": {
    "collapsed": true
   },
   "source": [
    "# Build the model\n",
    "Make a simple network with random layer and number of neurals."
   ]
  },
  {
   "cell_type": "code",
   "execution_count": 10,
   "metadata": {},
   "outputs": [
    {
     "name": "stdout",
     "output_type": "stream",
     "text": [
      "_________________________________________________________________\n",
      "Layer (type)                 Output Shape              Param #   \n",
      "=================================================================\n",
      "embedding_1 (Embedding)      (None, 500, 8)            160000    \n",
      "_________________________________________________________________\n",
      "flatten_1 (Flatten)          (None, 4000)              0         \n",
      "_________________________________________________________________\n",
      "dense_1 (Dense)              (None, 1024)              4097024   \n",
      "_________________________________________________________________\n",
      "dense_2 (Dense)              (None, 256)               262400    \n",
      "_________________________________________________________________\n",
      "dense_3 (Dense)              (None, 23)                5911      \n",
      "=================================================================\n",
      "Total params: 4,525,335\n",
      "Trainable params: 4,525,335\n",
      "Non-trainable params: 0\n",
      "_________________________________________________________________\n"
     ]
    }
   ],
   "source": [
    "from keras.models import Sequential\n",
    "from keras.layers import Flatten, Dense, Embedding\n",
    "\n",
    "model = Sequential()\n",
    "model.add(Embedding(max_words, 8, input_length=maxlen))\n",
    "model.add(Flatten())\n",
    "model.add(Dense(1024, activation = 'relu'))\n",
    "model.add(Dense(256, activation = 'relu'))\n",
    "model.add(Dense(len(L), activation = 'softmax'))\n",
    "\n",
    "model.compile(optimizer = 'rmsprop',\n",
    "             loss = 'categorical_crossentropy',\n",
    "             metrics = ['accuracy'])\n",
    "\n",
    "model.summary()"
   ]
  },
  {
   "cell_type": "code",
   "execution_count": 12,
   "metadata": {
    "collapsed": true
   },
   "outputs": [],
   "source": [
    "# Train the model"
   ]
  },
  {
   "cell_type": "code",
   "execution_count": 13,
   "metadata": {},
   "outputs": [
    {
     "name": "stdout",
     "output_type": "stream",
     "text": [
      "Train on 8346 samples, validate on 2087 samples\n",
      "Epoch 1/10\n",
      "8346/8346 [==============================] - 58s 7ms/step - loss: 2.7404 - acc: 0.1973 - val_loss: 2.6500 - val_acc: 0.2329\n",
      "Epoch 2/10\n",
      "8346/8346 [==============================] - 56s 7ms/step - loss: 2.4171 - acc: 0.2816 - val_loss: 2.6038 - val_acc: 0.2544\n",
      "Epoch 3/10\n",
      "8346/8346 [==============================] - 56s 7ms/step - loss: 1.9807 - acc: 0.3699 - val_loss: 2.8503 - val_acc: 0.1787\n",
      "Epoch 4/10\n",
      "8346/8346 [==============================] - 55s 7ms/step - loss: 1.5952 - acc: 0.4752 - val_loss: 3.0187 - val_acc: 0.1485\n",
      "Epoch 5/10\n",
      "8346/8346 [==============================] - 55s 7ms/step - loss: 1.3420 - acc: 0.5087 - val_loss: 3.2955 - val_acc: 0.1346\n",
      "Epoch 6/10\n",
      "8346/8346 [==============================] - 54s 6ms/step - loss: 1.1688 - acc: 0.5270 - val_loss: 3.6446 - val_acc: 0.1332\n",
      "Epoch 7/10\n",
      "8346/8346 [==============================] - 52s 6ms/step - loss: 1.0450 - acc: 0.5369 - val_loss: 3.8777 - val_acc: 0.1375\n",
      "Epoch 8/10\n",
      "8346/8346 [==============================] - 55s 7ms/step - loss: 0.9408 - acc: 0.5377 - val_loss: 4.1947 - val_acc: 0.1346\n",
      "Epoch 9/10\n",
      "8346/8346 [==============================] - 55s 7ms/step - loss: 0.8625 - acc: 0.5461 - val_loss: 4.7157 - val_acc: 0.1265\n",
      "Epoch 10/10\n",
      "8346/8346 [==============================] - 55s 7ms/step - loss: 0.7958 - acc: 0.5532 - val_loss: 5.0776 - val_acc: 0.1332\n",
      "Elapsed time: 552.07 seconds\n"
     ]
    }
   ],
   "source": [
    "import time\n",
    "\n",
    "t1 = time.time()\n",
    "history = model.fit(data, one_hot_labels,\n",
    "                   epochs = 10,\n",
    "                   batch_size = 32,\n",
    "                   validation_split = 0.2)\n",
    "t2 = time.time()\n",
    "print('Elapsed time: {:.2f} seconds'.format((t2-t1)))"
   ]
  },
  {
   "cell_type": "code",
   "execution_count": 14,
   "metadata": {
    "collapsed": true
   },
   "outputs": [],
   "source": [
    "# Training results"
   ]
  },
  {
   "cell_type": "code",
   "execution_count": 15,
   "metadata": {},
   "outputs": [
    {
     "data": {
      "image/png": "[encoded data removed]",
      "text/plain": [
       "<matplotlib.figure.Figure at 0x1401506b6d8>"
      ]
     },
     "metadata": {},
     "output_type": "display_data"
    },
    {
     "data": {
      "image/png": "[encoded data removed]",
      "text/plain": [
       "<matplotlib.figure.Figure at 0x14015c363c8>"
      ]
     },
     "metadata": {},
     "output_type": "display_data"
    }
   ],
   "source": [
    "import matplotlib.pyplot as plt\n",
    "\n",
    "acc = history.history['acc']\n",
    "val_acc = history.history['val_acc']\n",
    "loss = history.history['loss']\n",
    "val_loss = history.history['val_loss']\n",
    "\n",
    "epochs = range(1, len(acc) + 1)\n",
    "\n",
    "plt.figure(figsize=(15, 3))\n",
    "plt.plot(epochs, acc, 'bo', label='Training acc')\n",
    "plt.plot(epochs, val_acc, 'b', label='Validation acc')\n",
    "plt.title('Training and validation accuracy')\n",
    "plt.grid()\n",
    "plt.xlabel('Epoch')\n",
    "plt.legend()\n",
    "\n",
    "\n",
    "plt.figure(figsize=(15, 3))\n",
    "plt.plot(epochs, loss, 'bo', label='Training loss')\n",
    "plt.plot(epochs, val_loss, 'b', label='Validation loss')\n",
    "plt.title('Training and validation loss')\n",
    "plt.grid()\n",
    "plt.xlabel('Epoch')\n",
    "plt.legend()\n",
    "\n",
    "plt.show()"
   ]
  },
  {
   "cell_type": "markdown",
   "metadata": {
    "collapsed": true
   },
   "source": [
    "# Metrics results\n",
    "\n",
    "But looking the result above the highest accuracy we can get iss 25% at the second epoch. But to the classification, accuracy alone is a bad measure for the model."
   ]
  },
  {
   "cell_type": "code",
   "execution_count": 17,
   "metadata": {
    "collapsed": true
   },
   "outputs": [],
   "source": [
    "# Calculate the predictions\n",
    "predictions = model.predict(data)\n",
    "y_pred = np.argmax(predictions, axis = 1)"
   ]
  },
  {
   "cell_type": "code",
   "execution_count": 15,
   "metadata": {
    "collapsed": true
   },
   "outputs": [],
   "source": [
    "# http://scikit-learn.org/stable/modules/model_evaluation.html\n",
    "from sklearn.metrics import accuracy_score, precision_score, f1_score, confusion_matrix\n",
    "from sklearn.metrics import classification_report, recall_score"
   ]
  },
  {
   "cell_type": "code",
   "execution_count": 20,
   "metadata": {},
   "outputs": [
    {
     "name": "stdout",
     "output_type": "stream",
     "text": [
      "[[241  10   1  13   7  15   4  18   2   3   8   4  13  15   1   5   8   0   0  16   9   2  28]\n",
      " [ 11  61   0  15   0   6   2   6   4   3   3   2   5   5   1   1   2   0   1  24   0   0   6]\n",
      " [  3   1  35   2   0   2   0   3   0   2   2   1   0   2   0   1   0   2   0   3   0   1   5]\n",
      " [ 10   4   1 886   8  15  20  41  17   7  11  23  14   6   3   5  12   2  21   7   3   0  47]\n",
      " [ 12   0   0  12 165   3   1   3   0   4   2   2   2   4   2   7   7   5   2   7  17   0  26]\n",
      " [ 26   5   3  77   4 286   0   9   0   3   1   7   6  26   2   4   8   8   8   6   6   7  86]\n",
      " [  2   1   0  10   3   1  72   1   2   0   0   1   0   2   0   0   1   2   0   0   0   0   2]\n",
      " [ 23   6   3  43   3   6   2 249  12   1   1   1   2  31   1   8   2   4   2  20  18   4  31]\n",
      " [  0   0   0  13   2   0   0   7  80   3   2   1   1   1   0   0   1   1   0   2   1   0  10]\n",
      " [ 11   3   2  45  24   7   4   4   2 239  16   4   8  51   0   7   6   6   8  13  32   4 125]\n",
      " [  1   1   2   7   4   1   1   0   0   0 108   2   0   3   0   3   4   3   0   6   2   0  14]\n",
      " [ 15   0   0  94   1   8   0  11   1   5   0 228   9  33   2   6   4   9  12   4   2   2  45]\n",
      " [  9   5   1  37   0   5   0   6   0   1   0   4 167   4   1   2   6   1   2  11   0   0  19]\n",
      " [ 18   1   1  26   4   4   2  12   0  14   7  15  18 954   3  22  13  19   8   3  14   3  88]\n",
      " [ 10   2   1  27   7   4   2  13   1   1   3  15   9  13  64   2   7   3   2  11   3   1  14]\n",
      " [  3   0   0  12   4   1   1   3   2   3   0   1   9  19   0 125   1   1   1   3   1   0  10]\n",
      " [  4   2   0  28  20   1   7   3   4   4   6   5   3   4   0   4 162   0   3  14   2   2  17]\n",
      " [  3   1   0  18   5   7   2   2   0   2   4  11   2  38   0   1   2 224  23   2   5   1  35]\n",
      " [  0   0   0  19   6   1   0   1   0   2   3   1   0  20   0   1   2  20 101   4   1   0   9]\n",
      " [ 20  17   2  54   6  12   4  30   6   8   5  11   8  11   2   1  12   3   5 280  11   1  16]\n",
      " [ 17   0   1  19  22  18   2   5   2   3   8   6   2  25   2   0  12   5   1  12 328   7  49]\n",
      " [  6   1   0   2   3   5   0   2   0   1   0   0   0  21   0   0   4   3   1   1   2  37   3]\n",
      " [ 53  12   6 193  49  90  13  62  24  20  23  37  33 284  11  39  32  14  15  33  48   8 700]]\n"
     ]
    }
   ],
   "source": [
    "# Confusion matrix\n",
    "cm = confusion_matrix(labels, y_pred)\n",
    "print(np.array2string(cm, max_line_width = 100))"
   ]
  },
  {
   "cell_type": "markdown",
   "metadata": {},
   "source": [
    "# Reading confusion matrix\n",
    "We have 23 class, so our matrix 23x23. For example, in class/label 0, text belong to file C01, out of 498 prediction only 241 are correct. This ratio is precision, we can see it in below table. Another ratio is recall, 57% in class 0. It means in 423 text or data belong to class 0. The model only picks up 241. Combie both ratio we have f1-score to measure our model. The average score is 55%              "
   ]
  },
  {
   "cell_type": "code",
   "execution_count": 19,
   "metadata": {
    "scrolled": false
   },
   "outputs": [
    {
     "name": "stdout",
     "output_type": "stream",
     "text": [
      "             precision    recall  f1-score   support\n",
      "\n",
      "          0       0.48      0.57      0.52       423\n",
      "          1       0.46      0.39      0.42       158\n",
      "          2       0.59      0.54      0.56        65\n",
      "          3       0.54      0.76      0.63      1163\n",
      "          4       0.48      0.58      0.52       283\n",
      "          5       0.57      0.49      0.53       588\n",
      "          6       0.52      0.72      0.60       100\n",
      "          7       0.51      0.53      0.52       473\n",
      "          8       0.50      0.64      0.56       125\n",
      "          9       0.73      0.38      0.50       621\n",
      "         10       0.51      0.67      0.58       162\n",
      "         11       0.60      0.46      0.52       491\n",
      "         12       0.54      0.59      0.56       281\n",
      "         13       0.61      0.76      0.68      1249\n",
      "         14       0.67      0.30      0.41       215\n",
      "         15       0.51      0.62      0.56       200\n",
      "         16       0.53      0.55      0.54       295\n",
      "         17       0.67      0.58      0.62       388\n",
      "         18       0.47      0.53      0.50       191\n",
      "         19       0.58      0.53      0.56       525\n",
      "         20       0.65      0.60      0.62       546\n",
      "         21       0.46      0.40      0.43        92\n",
      "         22       0.51      0.39      0.44      1799\n",
      "\n",
      "avg / total       0.56      0.56      0.55     10433\n",
      "\n"
     ]
    }
   ],
   "source": [
    "# Classification results per class\n",
    "print(classification_report(labels, y_pred))"
   ]
  },
  {
   "cell_type": "markdown",
   "metadata": {},
   "source": [
    "# Try to improve performance\n",
    "By add more tool, changing the capacity of network to get a better result"
   ]
  },
  {
   "cell_type": "code",
   "execution_count": 8,
   "metadata": {},
   "outputs": [],
   "source": [
    "# Require Libraries\n",
    "from keras.layers import LSTM,  Dropout, Conv1D, MaxPooling1D, GlobalMaxPooling1D, GRU"
   ]
  },
  {
   "cell_type": "code",
   "execution_count": 11,
   "metadata": {},
   "outputs": [
    {
     "name": "stdout",
     "output_type": "stream",
     "text": [
      "_________________________________________________________________\n",
      "Layer (type)                 Output Shape              Param #   \n",
      "=================================================================\n",
      "embedding_2 (Embedding)      (None, 500, 32)           640000    \n",
      "_________________________________________________________________\n",
      "conv1d_1 (Conv1D)            (None, 492, 32)           9248      \n",
      "_________________________________________________________________\n",
      "max_pooling1d_1 (MaxPooling1 (None, 98, 32)            0         \n",
      "_________________________________________________________________\n",
      "conv1d_2 (Conv1D)            (None, 90, 32)            9248      \n",
      "_________________________________________________________________\n",
      "gru_1 (GRU)                  (None, 32)                6240      \n",
      "_________________________________________________________________\n",
      "dense_4 (Dense)              (None, 1024)              33792     \n",
      "_________________________________________________________________\n",
      "dense_5 (Dense)              (None, 23)                23575     \n",
      "=================================================================\n",
      "Total params: 722,103\n",
      "Trainable params: 722,103\n",
      "Non-trainable params: 0\n",
      "_________________________________________________________________\n"
     ]
    }
   ],
   "source": [
    "model = Sequential()\n",
    "model.add(Embedding(max_words, 32, input_length=maxlen))\n",
    "model.add(Conv1D(32, 9, activation='relu'))\n",
    "model.add(MaxPooling1D(5))\n",
    "model.add(Conv1D(32, 9, activation='relu'))\n",
    "model.add(GRU(32, dropout=0.1, recurrent_dropout=0.5))\n",
    "model.add(Dense(1024, activation = 'relu'))\n",
    "model.add(Dense(len(L), activation = 'softmax'))\n",
    "\n",
    "model.compile(optimizer = 'rmsprop',\n",
    "             loss = 'categorical_crossentropy',\n",
    "             metrics = ['accuracy'])\n",
    "\n",
    "model.summary()"
   ]
  },
  {
   "cell_type": "markdown",
   "metadata": {},
   "source": [
    "# \n",
    "I add a convnet layer after embedding word, increase dimension and use the rule of thumbs. The rule is if N is output. The number of neural in hidden layer will in ration of ...3xN 2xN 1.5xN N\n",
    "GRU in place of Flatten, LSTM or GlobalMaxPooling.  <br>\n",
    "\n",
    "The result: parameter is reduce from 4,5 million to around 7 hundred thousand. The validation accuracy is poorly\n"
   ]
  },
  {
   "cell_type": "code",
   "execution_count": 13,
   "metadata": {},
   "outputs": [
    {
     "name": "stdout",
     "output_type": "stream",
     "text": [
      "Train on 8346 samples, validate on 2087 samples\n",
      "Epoch 1/12\n",
      "8346/8346 [==============================] - 62s 7ms/step - loss: 2.8802 - acc: 0.1517 - val_loss: 2.8993 - val_acc: 0.1260\n",
      "Epoch 2/12\n",
      "8346/8346 [==============================] - 61s 7ms/step - loss: 2.8328 - acc: 0.1511 - val_loss: 2.9058 - val_acc: 0.1188\n",
      "Epoch 3/12\n",
      "8346/8346 [==============================] - 66s 8ms/step - loss: 2.7751 - acc: 0.1745 - val_loss: 2.8755 - val_acc: 0.1893\n",
      "Epoch 4/12\n",
      "8346/8346 [==============================] - 62s 7ms/step - loss: 2.7961 - acc: 0.1742 - val_loss: 2.9464 - val_acc: 0.1514\n",
      "Epoch 5/12\n",
      "8346/8346 [==============================] - 60s 7ms/step - loss: 2.8355 - acc: 0.1842 - val_loss: 2.9466 - val_acc: 0.1998\n",
      "Epoch 6/12\n",
      "8346/8346 [==============================] - 64s 8ms/step - loss: 2.8873 - acc: 0.1964 - val_loss: 3.5905 - val_acc: 0.1893\n",
      "Epoch 7/12\n",
      "8346/8346 [==============================] - 62s 7ms/step - loss: 2.9915 - acc: 0.1825 - val_loss: 3.5039 - val_acc: 0.1030\n",
      "Epoch 8/12\n",
      "8346/8346 [==============================] - 56s 7ms/step - loss: 3.1240 - acc: 0.1783 - val_loss: 3.4315 - val_acc: 0.1926\n",
      "Epoch 9/12\n",
      "8346/8346 [==============================] - 58s 7ms/step - loss: 3.2366 - acc: 0.1746 - val_loss: 3.8641 - val_acc: 0.1327\n",
      "Epoch 10/12\n",
      "8346/8346 [==============================] - 60s 7ms/step - loss: 3.3589 - acc: 0.1782 - val_loss: 3.9219 - val_acc: 0.1581\n",
      "Epoch 11/12\n",
      "8346/8346 [==============================] - 58s 7ms/step - loss: 3.5194 - acc: 0.1816 - val_loss: 5.9114 - val_acc: 0.0379\n",
      "Epoch 12/12\n",
      "8346/8346 [==============================] - 55s 7ms/step - loss: 3.5893 - acc: 0.1879 - val_loss: 4.4951 - val_acc: 0.1169\n",
      "Elapsed time: 728.18 seconds\n"
     ]
    }
   ],
   "source": [
    "import time\n",
    "t1 = time.time()\n",
    "history = model.fit(data, one_hot_labels,\n",
    "                   epochs = 12,\n",
    "                   batch_size = 32,\n",
    "                   validation_split = 0.2)\n",
    "t2 = time.time()\n",
    "print('Elapsed time: {:.2f} seconds'.format((t2-t1)))"
   ]
  },
  {
   "cell_type": "markdown",
   "metadata": {},
   "source": [
    "# \n",
    "Compare to the first model. It does better in the later epochs so I thought perhap if I introduce to resisting overfitting tools, it could do better."
   ]
  },
  {
   "cell_type": "code",
   "execution_count": 77,
   "metadata": {},
   "outputs": [
    {
     "name": "stdout",
     "output_type": "stream",
     "text": [
      "_________________________________________________________________\n",
      "Layer (type)                 Output Shape              Param #   \n",
      "=================================================================\n",
      "embedding_31 (Embedding)     (None, 500, 46)           920000    \n",
      "_________________________________________________________________\n",
      "flatten_20 (Flatten)         (None, 23000)             0         \n",
      "_________________________________________________________________\n",
      "dense_97 (Dense)             (None, 690)               15870690  \n",
      "_________________________________________________________________\n",
      "dropout_65 (Dropout)         (None, 690)               0         \n",
      "_________________________________________________________________\n",
      "dense_98 (Dense)             (None, 460)               317860    \n",
      "_________________________________________________________________\n",
      "dropout_66 (Dropout)         (None, 460)               0         \n",
      "_________________________________________________________________\n",
      "dense_99 (Dense)             (None, 230)               106030    \n",
      "_________________________________________________________________\n",
      "dropout_67 (Dropout)         (None, 230)               0         \n",
      "_________________________________________________________________\n",
      "dense_100 (Dense)            (None, 23)                5313      \n",
      "=================================================================\n",
      "Total params: 17,219,893\n",
      "Trainable params: 17,219,893\n",
      "Non-trainable params: 0\n",
      "_________________________________________________________________\n"
     ]
    }
   ],
   "source": [
    "from keras import regularizers\n",
    "\n",
    "model = Sequential()\n",
    "model.add(Embedding(max_words, 46, input_length=maxlen))\n",
    "model.add(Flatten())\n",
    "model.add(Dense(690,kernel_regularizer=regularizers.l2(0.009), activation = 'relu'))\n",
    "model.add(Dropout(0.2))\n",
    "model.add(Dense(460,kernel_regularizer=regularizers.l2(0.009), activation = 'relu'))\n",
    "model.add(Dropout(0.4))\n",
    "model.add(Dense(230,kernel_regularizer=regularizers.l2(0.009), activation = 'relu'))\n",
    "model.add(Dropout(0.5))\n",
    "model.add(Dense(len(L), activation = 'softmax'))\n",
    "\n",
    "model.compile(optimizer = 'rmsprop',\n",
    "             loss = 'categorical_crossentropy',\n",
    "             metrics = ['accuracy'])\n",
    "\n",
    "model.summary()"
   ]
  },
  {
   "cell_type": "markdown",
   "metadata": {},
   "source": [
    "# \n",
    "The capacity of the model have been increase and also I add two way to reduce overfitting, droptou and regulazier. <br>\n",
    "\n",
    "The result: The losses have been increase but the accuracies still nearly the same even after 30 epochs, but it does resist the overfitting."
   ]
  },
  {
   "cell_type": "code",
   "execution_count": 78,
   "metadata": {
    "scrolled": false
   },
   "outputs": [
    {
     "name": "stdout",
     "output_type": "stream",
     "text": [
      "Train on 8346 samples, validate on 2087 samples\n",
      "Epoch 1/30\n",
      "8346/8346 [==============================] - 66s 8ms/step - loss: 6.1785 - acc: 0.1540 - val_loss: 3.5134 - val_acc: 0.1730\n",
      "Epoch 2/30\n",
      "8346/8346 [==============================] - 62s 7ms/step - loss: 3.1463 - acc: 0.1619 - val_loss: 2.9485 - val_acc: 0.1730\n",
      "Epoch 3/30\n",
      "8346/8346 [==============================] - 61s 7ms/step - loss: 2.8716 - acc: 0.1783 - val_loss: 2.8595 - val_acc: 0.1969\n",
      "Epoch 4/30\n",
      "8346/8346 [==============================] - 61s 7ms/step - loss: 2.7765 - acc: 0.1945 - val_loss: 2.9264 - val_acc: 0.1931\n",
      "Epoch 5/30\n",
      "8346/8346 [==============================] - 61s 7ms/step - loss: 2.7253 - acc: 0.2006 - val_loss: 2.8743 - val_acc: 0.1854\n",
      "Epoch 6/30\n",
      "8346/8346 [==============================] - 60s 7ms/step - loss: 2.7001 - acc: 0.2160 - val_loss: 2.8572 - val_acc: 0.1869\n",
      "Epoch 7/30\n",
      "8346/8346 [==============================] - 61s 7ms/step - loss: 2.6663 - acc: 0.2171 - val_loss: 2.8434 - val_acc: 0.1907\n",
      "Epoch 8/30\n",
      "8346/8346 [==============================] - 61s 7ms/step - loss: 2.6478 - acc: 0.2268 - val_loss: 2.8589 - val_acc: 0.2012\n",
      "Epoch 9/30\n",
      "8346/8346 [==============================] - 61s 7ms/step - loss: 2.6305 - acc: 0.2281 - val_loss: 2.9004 - val_acc: 0.1993\n",
      "Epoch 10/30\n",
      "8346/8346 [==============================] - 62s 7ms/step - loss: 2.6061 - acc: 0.2362 - val_loss: 2.9077 - val_acc: 0.1624\n",
      "Epoch 11/30\n",
      "8346/8346 [==============================] - 61s 7ms/step - loss: 2.5929 - acc: 0.2384 - val_loss: 2.9276 - val_acc: 0.1974\n",
      "Epoch 12/30\n",
      "8346/8346 [==============================] - 61s 7ms/step - loss: 2.5789 - acc: 0.2428 - val_loss: 3.1237 - val_acc: 0.2161\n",
      "Epoch 13/30\n",
      "8346/8346 [==============================] - 61s 7ms/step - loss: 2.5742 - acc: 0.2429 - val_loss: 2.9498 - val_acc: 0.1984\n",
      "Epoch 14/30\n",
      "8346/8346 [==============================] - 60s 7ms/step - loss: 2.5593 - acc: 0.2486 - val_loss: 2.9536 - val_acc: 0.1552\n",
      "Epoch 15/30\n",
      "8346/8346 [==============================] - 62s 7ms/step - loss: 2.5535 - acc: 0.2508 - val_loss: 2.9635 - val_acc: 0.1993\n",
      "Epoch 16/30\n",
      "8346/8346 [==============================] - 61s 7ms/step - loss: 2.5422 - acc: 0.2513 - val_loss: 2.9453 - val_acc: 0.1744\n",
      "Epoch 17/30\n",
      "8346/8346 [==============================] - 62s 7ms/step - loss: 2.5356 - acc: 0.2588 - val_loss: 3.0182 - val_acc: 0.2012\n",
      "Epoch 18/30\n",
      "8346/8346 [==============================] - 61s 7ms/step - loss: 2.5252 - acc: 0.2679 - val_loss: 2.9976 - val_acc: 0.1500\n",
      "Epoch 19/30\n",
      "8346/8346 [==============================] - 61s 7ms/step - loss: 2.5238 - acc: 0.2652 - val_loss: 3.3301 - val_acc: 0.2084\n",
      "Epoch 20/30\n",
      "8346/8346 [==============================] - 61s 7ms/step - loss: 2.5219 - acc: 0.2683 - val_loss: 3.0735 - val_acc: 0.2022\n",
      "Epoch 21/30\n",
      "8346/8346 [==============================] - 61s 7ms/step - loss: 2.5152 - acc: 0.2653 - val_loss: 3.0140 - val_acc: 0.1735\n",
      "Epoch 22/30\n",
      "8346/8346 [==============================] - 61s 7ms/step - loss: 2.5064 - acc: 0.2721 - val_loss: 3.0546 - val_acc: 0.1782\n",
      "Epoch 23/30\n",
      "8346/8346 [==============================] - 61s 7ms/step - loss: 2.5013 - acc: 0.2735 - val_loss: 3.2644 - val_acc: 0.2084\n",
      "Epoch 24/30\n",
      "8346/8346 [==============================] - 61s 7ms/step - loss: 2.5011 - acc: 0.2725 - val_loss: 3.0370 - val_acc: 0.1653\n",
      "Epoch 25/30\n",
      "8346/8346 [==============================] - 62s 7ms/step - loss: 2.5023 - acc: 0.2750 - val_loss: 3.1098 - val_acc: 0.1878\n",
      "Epoch 26/30\n",
      "8346/8346 [==============================] - 61s 7ms/step - loss: 2.4912 - acc: 0.2750 - val_loss: 3.0391 - val_acc: 0.1610\n",
      "Epoch 27/30\n",
      "8346/8346 [==============================] - 62s 7ms/step - loss: 2.4825 - acc: 0.2771 - val_loss: 3.1289 - val_acc: 0.1945\n",
      "Epoch 28/30\n",
      "8346/8346 [==============================] - 62s 7ms/step - loss: 2.4834 - acc: 0.2739 - val_loss: 3.3599 - val_acc: 0.2103\n",
      "Epoch 29/30\n",
      "8346/8346 [==============================] - 62s 7ms/step - loss: 2.4829 - acc: 0.2807 - val_loss: 3.1437 - val_acc: 0.1883\n",
      "Epoch 30/30\n",
      "8346/8346 [==============================] - 61s 7ms/step - loss: 2.4811 - acc: 0.2791 - val_loss: 3.0804 - val_acc: 0.1634\n",
      "Elapsed time: 1841.97 seconds\n"
     ]
    }
   ],
   "source": [
    "t1 = time.time()\n",
    "history = model.fit(data, one_hot_labels,\n",
    "                   epochs = 30,\n",
    "                   batch_size = 128,\n",
    "                   validation_split = 0.2)\n",
    "t2 = time.time()\n",
    "print('Elapsed time: {:.2f} seconds'.format((t2-t1)))"
   ]
  },
  {
   "cell_type": "code",
   "execution_count": 83,
   "metadata": {},
   "outputs": [
    {
     "name": "stdout",
     "output_type": "stream",
     "text": [
      "_________________________________________________________________\n",
      "Layer (type)                 Output Shape              Param #   \n",
      "=================================================================\n",
      "embedding_34 (Embedding)     (None, 500, 32)           640000    \n",
      "_________________________________________________________________\n",
      "conv1d_28 (Conv1D)           (None, 492, 32)           9248      \n",
      "_________________________________________________________________\n",
      "max_pooling1d_19 (MaxPooling (None, 98, 32)            0         \n",
      "_________________________________________________________________\n",
      "conv1d_29 (Conv1D)           (None, 90, 32)            9248      \n",
      "_________________________________________________________________\n",
      "gru_5 (GRU)                  (None, 32)                6240      \n",
      "_________________________________________________________________\n",
      "dense_105 (Dense)            (None, 1024)              33792     \n",
      "_________________________________________________________________\n",
      "dense_106 (Dense)            (None, 23)                23575     \n",
      "=================================================================\n",
      "Total params: 722,103\n",
      "Trainable params: 722,103\n",
      "Non-trainable params: 0\n",
      "_________________________________________________________________\n"
     ]
    }
   ],
   "source": [
    "model = Sequential()\n",
    "model.add(Embedding(max_words, 32, input_length=maxlen))\n",
    "model.add(Conv1D(32, 9, activation='relu'))\n",
    "model.add(MaxPooling1D(5))\n",
    "model.add(Conv1D(32, 9, activation='relu'))\n",
    "model.add(GRU(32, dropout=0.1, recurrent_dropout=0.5))\n",
    "model.add(Dense(1024, activation = 'relu'))\n",
    "model.add(Dense(len(L), activation = 'softmax'))\n",
    "\n",
    "model.compile(loss='binary_crossentropy', \n",
    "              optimizer='adamax', \n",
    "              metrics= ['accuracy'])\n",
    "\n",
    "model.summary()"
   ]
  },
  {
   "cell_type": "markdown",
   "metadata": {},
   "source": [
    "# \n",
    "The best performance in train and validate but this's just a nonsense model, created after many anttempt to improve the model"
   ]
  },
  {
   "cell_type": "code",
   "execution_count": 84,
   "metadata": {},
   "outputs": [
    {
     "name": "stdout",
     "output_type": "stream",
     "text": [
      "Train on 8346 samples, validate on 2087 samples\n",
      "Epoch 1/10\n",
      "8346/8346 [==============================] - 31s 4ms/step - loss: 0.1653 - acc: 0.9565 - val_loss: 0.1631 - val_acc: 0.9565\n",
      "Epoch 2/10\n",
      "8346/8346 [==============================] - 26s 3ms/step - loss: 0.1619 - acc: 0.9565 - val_loss: 0.1615 - val_acc: 0.9565\n",
      "Epoch 3/10\n",
      "8346/8346 [==============================] - 26s 3ms/step - loss: 0.1576 - acc: 0.9566 - val_loss: 0.1607 - val_acc: 0.9566\n",
      "Epoch 4/10\n",
      "8346/8346 [==============================] - 26s 3ms/step - loss: 0.1533 - acc: 0.9569 - val_loss: 0.1613 - val_acc: 0.9565\n",
      "Epoch 5/10\n",
      "8346/8346 [==============================] - 26s 3ms/step - loss: 0.1497 - acc: 0.9570 - val_loss: 0.1611 - val_acc: 0.9565\n",
      "Epoch 6/10\n",
      "8346/8346 [==============================] - 26s 3ms/step - loss: 0.1467 - acc: 0.9574 - val_loss: 0.1637 - val_acc: 0.9566\n",
      "Epoch 7/10\n",
      "8346/8346 [==============================] - 26s 3ms/step - loss: 0.1444 - acc: 0.9576 - val_loss: 0.1644 - val_acc: 0.9564\n",
      "Epoch 8/10\n",
      "8346/8346 [==============================] - 27s 3ms/step - loss: 0.1427 - acc: 0.9579 - val_loss: 0.1684 - val_acc: 0.9564\n",
      "Epoch 9/10\n",
      "8346/8346 [==============================] - 26s 3ms/step - loss: 0.1403 - acc: 0.9582 - val_loss: 0.1703 - val_acc: 0.9561\n",
      "Epoch 10/10\n",
      "8346/8346 [==============================] - 26s 3ms/step - loss: 0.1391 - acc: 0.9583 - val_loss: 0.1717 - val_acc: 0.9560\n",
      "Elapsed time: 269.06 seconds\n"
     ]
    }
   ],
   "source": [
    "t1 = time.time()\n",
    "history = model.fit(data, one_hot_labels,\n",
    "                   epochs = 10,\n",
    "                   batch_size = 128,\n",
    "                   validation_split = 0.2)\n",
    "t2 = time.time()\n",
    "print('Elapsed time: {:.2f} seconds'.format((t2-t1)))"
   ]
  },
  {
   "cell_type": "code",
   "execution_count": 86,
   "metadata": {
    "scrolled": false
   },
   "outputs": [
    {
     "name": "stdout",
     "output_type": "stream",
     "text": [
      "_________________________________________________________________\n",
      "Layer (type)                 Output Shape              Param #   \n",
      "=================================================================\n",
      "embedding_36 (Embedding)     (None, 500, 32)           640000    \n",
      "_________________________________________________________________\n",
      "conv1d_32 (Conv1D)           (None, 492, 32)           9248      \n",
      "_________________________________________________________________\n",
      "max_pooling1d_21 (MaxPooling (None, 98, 32)            0         \n",
      "_________________________________________________________________\n",
      "conv1d_33 (Conv1D)           (None, 90, 32)            9248      \n",
      "_________________________________________________________________\n",
      "gru_7 (GRU)                  (None, 32)                6240      \n",
      "_________________________________________________________________\n",
      "dense_109 (Dense)            (None, 1024)              33792     \n",
      "_________________________________________________________________\n",
      "dense_110 (Dense)            (None, 23)                23575     \n",
      "=================================================================\n",
      "Total params: 722,103\n",
      "Trainable params: 722,103\n",
      "Non-trainable params: 0\n",
      "_________________________________________________________________\n"
     ]
    }
   ],
   "source": [
    "from keras.metrics import categorical_accuracy\n",
    "\n",
    "model = Sequential()\n",
    "model.add(Embedding(max_words, 32, input_length=maxlen))\n",
    "model.add(Conv1D(32, 9, activation='relu'))\n",
    "model.add(MaxPooling1D(5))\n",
    "model.add(Conv1D(32, 9, activation='relu'))\n",
    "model.add(GRU(32, dropout=0.1, recurrent_dropout=0.5))\n",
    "model.add(Dense(1024, activation = 'relu'))\n",
    "model.add(Dense(len(L), activation = 'softmax'))\n",
    "\n",
    "model.compile(optimizer = 'rmsprop',\n",
    "             loss = 'categorical_crossentropy',\n",
    "             metrics = [categorical_accuracy])\n",
    "\n",
    "model.summary()"
   ]
  },
  {
   "cell_type": "markdown",
   "metadata": {},
   "source": [
    "# \n",
    "Last try and still fail"
   ]
  },
  {
   "cell_type": "code",
   "execution_count": 87,
   "metadata": {},
   "outputs": [
    {
     "name": "stdout",
     "output_type": "stream",
     "text": [
      "Train on 8346 samples, validate on 2087 samples\n",
      "Epoch 1/10\n",
      "8346/8346 [==============================] - 30s 4ms/step - loss: 2.8232 - categorical_accuracy: 0.1674 - val_loss: 2.7949 - val_categorical_accuracy: 0.1730\n",
      "Epoch 2/10\n",
      "8346/8346 [==============================] - 25s 3ms/step - loss: 2.7035 - categorical_accuracy: 0.1751 - val_loss: 2.6963 - val_categorical_accuracy: 0.2065\n",
      "Epoch 3/10\n",
      "8346/8346 [==============================] - 26s 3ms/step - loss: 2.5764 - categorical_accuracy: 0.2025 - val_loss: 2.8164 - val_categorical_accuracy: 0.2113\n",
      "Epoch 4/10\n",
      "8346/8346 [==============================] - 26s 3ms/step - loss: 2.5005 - categorical_accuracy: 0.2213 - val_loss: 2.7194 - val_categorical_accuracy: 0.2084\n",
      "Epoch 5/10\n",
      "8346/8346 [==============================] - 26s 3ms/step - loss: 2.4247 - categorical_accuracy: 0.2505 - val_loss: 2.7581 - val_categorical_accuracy: 0.2276\n",
      "Epoch 6/10\n",
      "8346/8346 [==============================] - 26s 3ms/step - loss: 2.3287 - categorical_accuracy: 0.2810 - val_loss: 2.7948 - val_categorical_accuracy: 0.2123\n",
      "Epoch 7/10\n",
      "8346/8346 [==============================] - 26s 3ms/step - loss: 2.2461 - categorical_accuracy: 0.2994 - val_loss: 2.8336 - val_categorical_accuracy: 0.2262\n",
      "Epoch 8/10\n",
      "8346/8346 [==============================] - 27s 3ms/step - loss: 2.1643 - categorical_accuracy: 0.3229 - val_loss: 3.0127 - val_categorical_accuracy: 0.2137\n",
      "Epoch 9/10\n",
      "8346/8346 [==============================] - 27s 3ms/step - loss: 2.0885 - categorical_accuracy: 0.3379 - val_loss: 2.9886 - val_categorical_accuracy: 0.1931\n",
      "Epoch 10/10\n",
      "8346/8346 [==============================] - 26s 3ms/step - loss: 2.0305 - categorical_accuracy: 0.3569 - val_loss: 3.0541 - val_categorical_accuracy: 0.1888\n",
      "Elapsed time: 266.94 seconds\n"
     ]
    }
   ],
   "source": [
    "t1 = time.time()\n",
    "history = model.fit(data, one_hot_labels,\n",
    "                   epochs = 10,\n",
    "                   batch_size = 128,\n",
    "                   validation_split = 0.2)\n",
    "t2 = time.time()\n",
    "print('Elapsed time: {:.2f} seconds'.format((t2-t1)))"
   ]
  },
  {
   "cell_type": "markdown",
   "metadata": {
    "collapsed": true
   },
   "source": [
    "# Conclusion\n",
    "After the first model witout convet still give the best performance. Reading test is quite hard cause text is reading by human using natural language and so far right now. Human only can \"communicate\" with computer through programming language. I think the first step try to improve this task preprocessing, before tolkenize and embedding. A filter to clean the text before hand, drop out all the word with unnecessary or bring confusion to the machine.\n"
   ]
  }
 ],
 "metadata": {
  "kernelspec": {
   "display_name": "Python 3",
   "language": "python",
   "name": "python3"
  },
  "language_info": {
   "codemirror_mode": {
    "name": "ipython",
    "version": 3
   },
   "file_extension": ".py",
   "mimetype": "text/x-python",
   "name": "python",
   "nbconvert_exporter": "python",
   "pygments_lexer": "ipython3",
   "version": "3.6.3"
  }
 },
 "nbformat": 4,
 "nbformat_minor": 2
}
